{
 "cells": [
  {
   "cell_type": "code",
   "execution_count": null,
   "id": "c9653cc9",
   "metadata": {},
   "outputs": [],
   "source": []
  },
  {
   "cell_type": "code",
   "execution_count": null,
   "id": "12ea5ef7",
   "metadata": {},
   "outputs": [],
   "source": []
  },
  {
   "cell_type": "code",
   "execution_count": 12,
   "id": "a3388853",
   "metadata": {
    "scrolled": true
   },
   "outputs": [
    {
     "name": "stdout",
     "output_type": "stream",
     "text": [
      " 1234\n",
      "Jogn      \n"
     ]
    }
   ],
   "source": [
    "print(format(1234,\"5d\")) #format returns the string \n",
    "print(format(\"Jogn\",\"<10s\"))"
   ]
  },
  {
   "cell_type": "markdown",
   "id": "90c26bdd",
   "metadata": {},
   "source": [
    "# Unit 1"
   ]
  },
  {
   "cell_type": "markdown",
   "id": "412c02ce",
   "metadata": {},
   "source": [
    "#### 1.1 (Display three different messages) Write a program that displays Welcome to Python, Welcome to Computer Science, and Programming is fun."
   ]
  },
  {
   "cell_type": "code",
   "execution_count": 1,
   "id": "340b24ea",
   "metadata": {},
   "outputs": [
    {
     "name": "stdout",
     "output_type": "stream",
     "text": [
      "Welcome to Python, Welcome to Computer Science, and Programming is fun.\n"
     ]
    }
   ],
   "source": [
    "print(\"Welcome to Python, Welcome to Computer Science, and Programming is fun.\")"
   ]
  },
  {
   "cell_type": "markdown",
   "id": "632aafac",
   "metadata": {},
   "source": [
    "#### 1.2 (Display the same message five times) Write a program that displays Welcome to Python five times."
   ]
  },
  {
   "cell_type": "code",
   "execution_count": 3,
   "id": "6cb747b4",
   "metadata": {},
   "outputs": [
    {
     "name": "stdout",
     "output_type": "stream",
     "text": [
      "Welcome to Python\n",
      "Welcome to Python\n",
      "Welcome to Python\n",
      "Welcome to Python\n",
      "Welcome to Python\n"
     ]
    }
   ],
   "source": [
    "#print(\"Welcome to Python\")\n",
    "\n",
    "for loop in range (5):\n",
    "    print(\"Welcome to Python\")"
   ]
  },
  {
   "attachments": {
    "image.png": {
     "image/png": "[encoded data removed]"
    }
   },
   "cell_type": "markdown",
   "id": "25d47647",
   "metadata": {},
   "source": [
    "#### 1.3 (Display a pattern) Write a program that displays the following pattern:\n",
    "![image.png](attachment:image.png)"
   ]
  },
  {
   "cell_type": "code",
   "execution_count": 24,
   "id": "166fe1e7",
   "metadata": {},
   "outputs": [
    {
     "name": "stdout",
     "output_type": "stream",
     "text": [
      "FFFFFFF\t U\t U\t NN\t NN\n",
      "FF\t U\t U\t NNN\t NN\n",
      "FFFFFFF\t U\t U\t NN N\t NN\n",
      "FF\t  U     U\t NN  N\t NN\n",
      "FF\t    UUU\t\t NN\tNNN\n"
     ]
    }
   ],
   "source": [
    "print(\"FFFFFFF\\t U\\t U\\t NN\\t NN\")\n",
    "print(\"FF\\t U\\t U\\t NNN\\t NN\")\n",
    "print(\"FFFFFFF\\t U\\t U\\t NN N\\t NN\")\n",
    "print(\"FF\\t  U     U\\t NN  N\\t NN\")\n",
    "print(\"FF\\t    UUU\\t\\t NN\\tNNN\")"
   ]
  },
  {
   "cell_type": "markdown",
   "id": "06d3b16f",
   "metadata": {},
   "source": [
    "#### 1.10 (Average speed) Assume a runner runs 14 kilometers in 45 minutes and 30 seconds. Write a program that displays the average speed in miles per hour. (Note that 1 mile is 1.6 kilometers.)"
   ]
  },
  {
   "cell_type": "code",
   "execution_count": 30,
   "id": "7d83a88c",
   "metadata": {},
   "outputs": [
    {
     "data": {
      "text/plain": [
       "11.538461538461538"
      ]
     },
     "execution_count": 30,
     "metadata": {},
     "output_type": "execute_result"
    }
   ],
   "source": [
    "distanceInMile = 14/1.6\n",
    "timeInHour = 45.5/60\n",
    "\n",
    "averageSpeed = distanceInMile / timeInHour\n",
    "\n",
    "averageSpeed"
   ]
  },
  {
   "cell_type": "markdown",
   "id": "6401bd65",
   "metadata": {},
   "source": [
    "1.11 (Population projection) The US Census Bureau projects population based on the\n",
    "following assumptions:\n",
    "One birth every 7 seconds\n",
    "One death every 13 seconds\n",
    "One new immigrant every 45 seconds\n",
    "Write a program to display the population for each of the next five years. Assume the\n",
    "current population is 312032486 and one year has 365 days. Hint: in Python, you\n",
    "can use integer division operator // to perform division. The result is an integer. For\n",
    "example, 5 // 4 is 1 (not 1.25) and 10 // 4 is 2 (not 2.5)."
   ]
  },
  {
   "cell_type": "code",
   "execution_count": null,
   "id": "1032ca52",
   "metadata": {},
   "outputs": [],
   "source": []
  }
 ],
 "metadata": {
  "kernelspec": {
   "display_name": "Python 3 (ipykernel)",
   "language": "python",
   "name": "python3"
  },
  "language_info": {
   "codemirror_mode": {
    "name": "ipython",
    "version": 3
   },
   "file_extension": ".py",
   "mimetype": "text/x-python",
   "name": "python",
   "nbconvert_exporter": "python",
   "pygments_lexer": "ipython3",
   "version": "3.11.4"
  }
 },
 "nbformat": 4,
 "nbformat_minor": 5
}
